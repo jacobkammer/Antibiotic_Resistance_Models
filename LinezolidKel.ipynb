{
 "cells": [
  {
   "cell_type": "code",
   "execution_count": 12,
   "id": "e3c853a1-ff3b-4385-9418-d8d99c488e91",
   "metadata": {},
   "outputs": [
    {
     "data": {
      "text/plain": [
       "81.01851851851853"
      ]
     },
     "execution_count": 12,
     "metadata": {},
     "output_type": "execute_result"
    }
   ],
   "source": [
    "sCr = 1.2\n",
    "age = 40\n",
    "V = 40\n",
    "def CrCL(sCr, V, age, weight=70):\n",
    "    CrCL = (140 - age)*weight /(72* sCr)\n",
    "    return CrCL\n",
    "\n",
    "CrCL(1.2, 40, 40)"
   ]
  },
  {
   "cell_type": "markdown",
   "id": "8f2059f5-b176-4380-ba39-c1d12f4d8849",
   "metadata": {},
   "source": [
    "The clearance of linezolid can be influenced by various factors,\\\n",
    "including body weight and renal function,\\\n",
    "often represented by serum creatinine levels.\\\n",
    "The formula to estimate the clearance of linezolid considering weight and \\\n",
    "serum creatinine can be more complex and may involve pharmacokinetic equations\\ \n",
    "derived from clinical studies.\\\n",
    "\n",
    "One commonly used approach for drugs with renal clearance is to use the Cockcroft-Gault equation\\\n",
    "to estimate creatinine clearance (CrCl), which is then used to adjust the drug clearance. \n",
    "    "
   ]
  },
  {
   "cell_type": "markdown",
   "id": "749b0ea8-8461-4b29-a0b7-f2eed882e62f",
   "metadata": {},
   "source": [
    "CL_linezolid = CL0 + (CrCL* F_renal)\\\n",
    "​\n",
    "where:\\\n",
    "CL0 is the non0 renal clearance of linezolid\\\n",
    "CrCL is the creatinine clearance\\\n",
    "F_renal is the fraction of drug cleared renally"
   ]
  },
  {
   "cell_type": "code",
   "execution_count": 18,
   "id": "549ce512-2087-434c-ad99-b036fc8f1cda",
   "metadata": {},
   "outputs": [
    {
     "data": {
      "text/plain": [
       "0.9349999999999999"
      ]
     },
     "execution_count": 18,
     "metadata": {},
     "output_type": "execute_result"
    }
   ],
   "source": [
    "def LinezolidKel(CrCL, V):\n",
    "    CL_linezolid = 5 + (CrCL * 0.4)\n",
    "    Kel = CL_linezolid / V\n",
    "    return Kel\n",
    "\n",
    "LinezolidKel(81, 40)"
   ]
  },
  {
   "cell_type": "code",
   "execution_count": null,
   "id": "009d7bce-65aa-4b49-9f60-ccd0074bf664",
   "metadata": {},
   "outputs": [],
   "source": []
  }
 ],
 "metadata": {
  "kernelspec": {
   "display_name": "Python 3 (ipykernel)",
   "language": "python",
   "name": "python3"
  },
  "language_info": {
   "codemirror_mode": {
    "name": "ipython",
    "version": 3
   },
   "file_extension": ".py",
   "mimetype": "text/x-python",
   "name": "python",
   "nbconvert_exporter": "python",
   "pygments_lexer": "ipython3",
   "version": "3.12.4"
  }
 },
 "nbformat": 4,
 "nbformat_minor": 5
}
