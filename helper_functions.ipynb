{
 "cells": [
  {
   "cell_type": "code",
   "execution_count": 1,
   "id": "d7e35a76-4de8-427b-9a95-08384960fa66",
   "metadata": {},
   "outputs": [
    {
     "name": "stdout",
     "output_type": "stream",
     "text": [
      "Input Array:\n",
      "[[1 2]\n",
      " [3 4]]\n",
      "\n",
      "Zeros-like Array:\n",
      "[[0 0]\n",
      " [0 0]]\n"
     ]
    }
   ],
   "source": [
    "import numpy as np\n",
    "\n",
    "# Input array\n",
    "a = np.array([[1, 2], [3, 4]])\n",
    "\n",
    "# Create an array of zeros with the same shape and type as 'a'\n",
    "b = np.zeros_like(a)\n",
    "\n",
    "print(\"Input Array:\")\n",
    "print(a)\n",
    "\n",
    "print(\"\\nZeros-like Array:\")\n",
    "print(b)\n"
   ]
  },
  {
   "cell_type": "markdown",
   "id": "35c78609-679d-48d1-aec0-755c28a8925c",
   "metadata": {},
   "source": [
    "#  Comparison to np.zeros:\n",
    "\n",
    "The main differences between np.zeros_like and np.zeros are:\r\n",
    "\r\n",
    "Input parameters:\r\n",
    "\r\n",
    "np.zeros takes a shape tuple as its primary argument\r\n",
    "\r\n",
    "np.zeros_like takes an existing array as its primary argument\r\n",
    "\r\n",
    "Purpose:\r\n",
    "\r\n",
    "np.zeros creates a new array of a specified shape filled with zeros\r\n",
    "\r\n",
    "np.zeros_like creates a new array of zeros with the same shape and data type as the input array\r\n",
    "\r\n",
    "Usage context:\r\n",
    "\r\n",
    "Use np.zeros when you know the desired shape of the array\r\n",
    "\r\n",
    "Use np.zeros_like when you want to create an array matching the shape of ar than np.zeros_like\r\n",
    "\r\n",
    "Flexibility:\r\n",
    "\r\n",
    "np.zeros_like allows you to override the data type and shape of the output array if needed, while still using the input array as a reference\r\n",
    "\r\n",
    "Both functions are useful for initializing arrays with zeros, but they serve slightly different purposes depending on whether you're working with a known shape or an existing array as a template.\r\n",
    "\r\n"
   ]
  },
  {
   "cell_type": "code",
   "execution_count": 4,
   "id": "83fa813f-972a-4710-ac05-5a67dda0c6ff",
   "metadata": {},
   "outputs": [
    {
     "name": "stdout",
     "output_type": "stream",
     "text": [
      "Interpolated values: [1. 3. 2.]\n"
     ]
    }
   ],
   "source": [
    "import numpy as np\n",
    "\n",
    "# Known data points\n",
    "xp = [1, 3, 4, 7]\n",
    "fp = [2, 0, 4, 1]\n",
    "\n",
    "# Points to interpolate\n",
    "x = [2, 5, 6]\n",
    "\n",
    "# Perform interpolation\n",
    "interpolated_values = np.interp(x, xp, fp)\n",
    "\n",
    "print(\"Interpolated values:\", interpolated_values)\n"
   ]
  },
  {
   "cell_type": "markdown",
   "id": "7fa1b9b9-9c59-4290-825c-a1bec0bf3f7c",
   "metadata": {},
   "source": [
    "The function performs linear interpolation between consecutive points in (xp, fp).\r\n",
    "\r\n",
    "\n",
    "\n",
    "Parameters\r\n",
    "x (array_like):\r\n",
    "The x-coordinates where you want to evaluate the interpolated values.\r\n",
    "\r\n",
    "xp (1-D sequence):\r\n",
    "The x-coordinates of the known data points. These must be sorted in increasing order (or will be internally sorted if period is specified).\r\n",
    "\r\n",
    "fp (1-D sequence):\r\n",
    "The y-coordinates of the known data points corresponding to xp.\r\n",
    "\r\n",
    "left (optional):\r\n",
    "A scalar value to return for x < xp. If not specified, it defaults to fp.\r\n",
    "\r\n",
    "right (optional):\r\n",
    "A scalar value to return for x > xp[-1]. If not specified, it defaults to fp[-1].\r\n",
    "\r\n",
    "period (optional):\r\n",
    "Specifies a periodic boundary for the x-coordinates in xp. If provided, the function assumes periodicity and normalizes the input accordingly."
   ]
  },
  {
   "cell_type": "code",
   "execution_count": null,
   "id": "5a8bd7bc-1f20-415a-a478-d6b693f59792",
   "metadata": {},
   "outputs": [],
   "source": []
  }
 ],
 "metadata": {
  "kernelspec": {
   "display_name": "Python [conda env:base] *",
   "language": "python",
   "name": "conda-base-py"
  },
  "language_info": {
   "codemirror_mode": {
    "name": "ipython",
    "version": 3
   },
   "file_extension": ".py",
   "mimetype": "text/x-python",
   "name": "python",
   "nbconvert_exporter": "python",
   "pygments_lexer": "ipython3",
   "version": "3.12.4"
  }
 },
 "nbformat": 4,
 "nbformat_minor": 5
}
