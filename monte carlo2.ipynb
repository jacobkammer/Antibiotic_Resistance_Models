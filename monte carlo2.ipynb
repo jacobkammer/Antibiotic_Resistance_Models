{
 "cells": [
  {
   "cell_type": "code",
   "execution_count": 3,
   "id": "de29c960-c347-41ea-9e46-e6b79d3ac883",
   "metadata": {},
   "outputs": [
    {
     "name": "stdout",
     "output_type": "stream",
     "text": [
      "Plain Monte Carlo Estimate: 1.9828\n",
      "MCMC Estimate: 2.4603\n"
     ]
    },
    {
     "data": {
      "image/png": "[encoded data removed]",
      "text/plain": [
       "<Figure size 640x480 with 1 Axes>"
      ]
     },
     "metadata": {},
     "output_type": "display_data"
    }
   ],
   "source": [
    "import numpy as np\n",
    "import matplotlib.pyplot as plt\n",
    "\n",
    "# Define the function to integrate\n",
    "def f(x):\n",
    "    return np.sin(x)\n",
    "\n",
    "# Integration bounds\n",
    "a, b = 0, np.pi\n",
    "\n",
    "# --- Plain Monte Carlo Sampling ---\n",
    "N = 1000  # number of random samples\n",
    "\n",
    "# Generate N independent uniform random samples\n",
    "x_samples = np.random.uniform(a, b, N)\n",
    "# Compute function values and estimate integral\n",
    "mc_estimate = (b - a) * np.mean(f(x_samples))\n",
    "\n",
    "print(f\"Plain Monte Carlo Estimate: {mc_estimate:.4f}\")\n",
    "\n",
    "# --- Simple MCMC Sampling ---\n",
    "# We will use a Metropolis algorithm to sample from PDF proportional to sin(x)\n",
    "\n",
    "def target_pdf(x):\n",
    "    # Probability proportional to sin(x) in [0, pi], zero elsewhere\n",
    "    return np.sin(x) if 0 <= x <= np.pi else 0\n",
    "\n",
    "mcmc_samples = []\n",
    "current_x = np.pi / 2  # start at middle of domain\n",
    "steps = 5000\n",
    "burn_in = 1000\n",
    "\n",
    "for i in range(steps):\n",
    "    # Propose a new point from a normal distribution centered on current_x\n",
    "    proposal = np.random.normal(current_x, 0.5)\n",
    "    # Calculate acceptance ratio\n",
    "    p_current = target_pdf(current_x)\n",
    "    p_proposal = target_pdf(proposal)\n",
    "    acceptance_ratio = p_proposal / p_current if p_current > 0 else 1\n",
    "    \n",
    "    # Accept or reject proposal\n",
    "    if acceptance_ratio >= 1 or np.random.rand() < acceptance_ratio:\n",
    "        current_x = proposal\n",
    "    \n",
    "    if i >= burn_in:\n",
    "        mcmc_samples.append(current_x)\n",
    "\n",
    "# Estimate integral by weighting each MCMC point by the interval length (pi-0)\n",
    "# The expected value of x under the distribution proportional to sin(x) would approximate integral normalized,\n",
    "# but for this example we'll estimate integral as the average value of f(x) in samples weighted by domain length\n",
    "mcmc_estimate = (b - a) * np.mean(f(np.array(mcmc_samples)))\n",
    "\n",
    "print(f\"MCMC Estimate: {mcmc_estimate:.4f}\")\n",
    "\n",
    "# Visualization\n",
    "plt.hist(x_samples, bins=30, alpha=0.5, label='Plain MC samples')\n",
    "plt.hist(mcmc_samples, bins=30, alpha=0.5, label='MCMC samples')\n",
    "plt.legend()\n",
    "plt.title(\"Distribution of Samples\")\n",
    "plt.show()\n"
   ]
  },
  {
   "cell_type": "markdown",
   "id": "3b7330cc-51fa-46dd-9a2f-13ced1c75e54",
   "metadata": {},
   "source": [
    "Explanation:\r\n",
    "The plain Monte Carlo part draws independent uniform samples over the interval and estimates the integral as the average function value times the interval length.\r\n",
    "\r\n",
    "The MCMC part uses the Metropolis algorithm to generate samples from a distribution proportional to \r\n",
    "sin\r\n",
    "⁡\r\n",
    "(\r\n",
    "x\r\n",
    ")\r\n",
    "sin(x) on \r\n",
    "[\r\n",
    "0\r\n",
    ",\r\n",
    "π\r\n",
    "]\r\n",
    "[0,π] and uses these samples to estimate the integral.\r\n",
    "\r\n",
    "The histograms show that plain Monte Carlo samples are uniformly distributed while MCMC samples concentrate around regions where \r\n",
    "sin\r\n",
    "⁡\r\n",
    "(\r\n",
    "x\r\n",
    ")\r\n",
    "sin(x) is larger.\r\n",
    "\r\n",
    "This example illustrates the difference in sampling approaches clearly: independent uniform sampling vs dependent samples generated by a Markov chain that better approximates a complex target distribution."
   ]
  },
  {
   "cell_type": "code",
   "execution_count": 5,
   "id": "ad34f69d-1784-4a4b-b83e-8c646ae81109",
   "metadata": {},
   "outputs": [
    {
     "ename": "NameError",
     "evalue": "name 'trace' is not defined",
     "output_type": "error",
     "traceback": [
      "\u001b[1;31m---------------------------------------------------------------------------\u001b[0m",
      "\u001b[1;31mNameError\u001b[0m                                 Traceback (most recent call last)",
      "Cell \u001b[1;32mIn[5], line 6\u001b[0m\n\u001b[0;32m      2\u001b[0m \u001b[38;5;28;01mimport\u001b[39;00m \u001b[38;5;21;01mmatplotlib\u001b[39;00m\u001b[38;5;21;01m.\u001b[39;00m\u001b[38;5;21;01mpyplot\u001b[39;00m \u001b[38;5;28;01mas\u001b[39;00m \u001b[38;5;21;01mplt\u001b[39;00m\n\u001b[0;32m      4\u001b[0m \u001b[38;5;66;03m# Assuming 'trace' is your MCMC sample object from pymc3, pystan, or similar\u001b[39;00m\n\u001b[0;32m      5\u001b[0m \u001b[38;5;66;03m# Plot autocorrelation for each parameter\u001b[39;00m\n\u001b[1;32m----> 6\u001b[0m az\u001b[38;5;241m.\u001b[39mplot_autocorr(trace)\n\u001b[0;32m      7\u001b[0m plt\u001b[38;5;241m.\u001b[39mshow()\n\u001b[0;32m      9\u001b[0m \u001b[38;5;66;03m# Summary including effective sample size\u001b[39;00m\n",
      "\u001b[1;31mNameError\u001b[0m: name 'trace' is not defined"
     ]
    }
   ],
   "source": [
    "\n",
    "import arviz as az\n",
    "import matplotlib.pyplot as plt\n",
    "\n",
    "# Assuming 'trace' is your MCMC sample object from pymc3, pystan, or similar\n",
    "# Plot autocorrelation for each parameter\n",
    "az.plot_autocorr(trace)\n",
    "plt.show()\n",
    "\n",
    "# Summary including effective sample size\n",
    "ess = az.ess(trace)\n",
    "print(ess)\n",
    "\n",
    "# Visualization of ESS\n",
    "az.plot_ess(trace)\n",
    "plt.show()\n"
   ]
  },
  {
   "cell_type": "code",
   "execution_count": 7,
   "id": "f74a6466-fd2d-40cc-b016-1c77d7d1cf0a",
   "metadata": {},
   "outputs": [
    {
     "name": "stdout",
     "output_type": "stream",
     "text": [
      "Collecting arviz\n",
      "  Downloading arviz-0.22.0-py3-none-any.whl.metadata (8.9 kB)\n",
      "Requirement already satisfied: setuptools>=60.0.0 in c:\\users\\jacob\\anaconda3\\lib\\site-packages (from arviz) (69.5.1)\n",
      "Requirement already satisfied: matplotlib>=3.8 in c:\\users\\jacob\\anaconda3\\lib\\site-packages (from arviz) (3.8.4)\n",
      "Requirement already satisfied: numpy>=1.26.0 in c:\\users\\jacob\\anaconda3\\lib\\site-packages (from arviz) (1.26.4)\n",
      "Requirement already satisfied: scipy>=1.11.0 in c:\\users\\jacob\\anaconda3\\lib\\site-packages (from arviz) (1.13.1)\n",
      "Requirement already satisfied: packaging in c:\\users\\jacob\\anaconda3\\lib\\site-packages (from arviz) (23.2)\n",
      "Requirement already satisfied: pandas>=2.1.0 in c:\\users\\jacob\\anaconda3\\lib\\site-packages (from arviz) (2.2.2)\n",
      "Collecting xarray>=2023.7.0 (from arviz)\n",
      "  Downloading xarray-2025.8.0-py3-none-any.whl.metadata (12 kB)\n",
      "Collecting h5netcdf>=1.0.2 (from arviz)\n",
      "  Downloading h5netcdf-1.6.4-py3-none-any.whl.metadata (13 kB)\n",
      "Requirement already satisfied: typing-extensions>=4.1.0 in c:\\users\\jacob\\anaconda3\\lib\\site-packages (from arviz) (4.11.0)\n",
      "Collecting xarray-einstats>=0.3 (from arviz)\n",
      "  Downloading xarray_einstats-0.9.1-py3-none-any.whl.metadata (5.9 kB)\n",
      "Requirement already satisfied: h5py in c:\\users\\jacob\\anaconda3\\lib\\site-packages (from h5netcdf>=1.0.2->arviz) (3.11.0)\n",
      "Requirement already satisfied: contourpy>=1.0.1 in c:\\users\\jacob\\anaconda3\\lib\\site-packages (from matplotlib>=3.8->arviz) (1.2.0)\n",
      "Requirement already satisfied: cycler>=0.10 in c:\\users\\jacob\\anaconda3\\lib\\site-packages (from matplotlib>=3.8->arviz) (0.11.0)\n",
      "Requirement already satisfied: fonttools>=4.22.0 in c:\\users\\jacob\\anaconda3\\lib\\site-packages (from matplotlib>=3.8->arviz) (4.51.0)\n",
      "Requirement already satisfied: kiwisolver>=1.3.1 in c:\\users\\jacob\\anaconda3\\lib\\site-packages (from matplotlib>=3.8->arviz) (1.4.4)\n",
      "Requirement already satisfied: pillow>=8 in c:\\users\\jacob\\anaconda3\\lib\\site-packages (from matplotlib>=3.8->arviz) (10.3.0)\n",
      "Requirement already satisfied: pyparsing>=2.3.1 in c:\\users\\jacob\\anaconda3\\lib\\site-packages (from matplotlib>=3.8->arviz) (3.0.9)\n",
      "Requirement already satisfied: python-dateutil>=2.7 in c:\\users\\jacob\\anaconda3\\lib\\site-packages (from matplotlib>=3.8->arviz) (2.9.0.post0)\n",
      "Requirement already satisfied: pytz>=2020.1 in c:\\users\\jacob\\anaconda3\\lib\\site-packages (from pandas>=2.1.0->arviz) (2024.1)\n",
      "Requirement already satisfied: tzdata>=2022.7 in c:\\users\\jacob\\anaconda3\\lib\\site-packages (from pandas>=2.1.0->arviz) (2023.3)\n",
      "Collecting packaging (from arviz)\n",
      "  Downloading packaging-25.0-py3-none-any.whl.metadata (3.3 kB)\n",
      "Requirement already satisfied: six>=1.5 in c:\\users\\jacob\\anaconda3\\lib\\site-packages (from python-dateutil>=2.7->matplotlib>=3.8->arviz) (1.16.0)\n",
      "Downloading arviz-0.22.0-py3-none-any.whl (1.7 MB)\n",
      "   ---------------------------------------- 0.0/1.7 MB ? eta -:--:--\n",
      "   ----- ---------------------------------- 0.2/1.7 MB 6.7 MB/s eta 0:00:01\n",
      "   ------------- -------------------------- 0.6/1.7 MB 7.0 MB/s eta 0:00:01\n",
      "   ----------------------- ---------------- 1.0/1.7 MB 7.0 MB/s eta 0:00:01\n",
      "   ---------------------------------- ----- 1.5/1.7 MB 8.4 MB/s eta 0:00:01\n",
      "   ---------------------------------------- 1.7/1.7 MB 8.1 MB/s eta 0:00:00\n",
      "Downloading h5netcdf-1.6.4-py3-none-any.whl (50 kB)\n",
      "   ---------------------------------------- 0.0/50.7 kB ? eta -:--:--\n",
      "   ---------------------------------------- 50.7/50.7 kB 2.5 MB/s eta 0:00:00\n",
      "Downloading xarray-2025.8.0-py3-none-any.whl (1.3 MB)\n",
      "   ---------------------------------------- 0.0/1.3 MB ? eta -:--:--\n",
      "   ----------------- ---------------------- 0.6/1.3 MB 17.9 MB/s eta 0:00:01\n",
      "   -------------------------------------- - 1.3/1.3 MB 16.3 MB/s eta 0:00:01\n",
      "   ---------------------------------------- 1.3/1.3 MB 14.2 MB/s eta 0:00:00\n",
      "Downloading packaging-25.0-py3-none-any.whl (66 kB)\n",
      "   ---------------------------------------- 0.0/66.5 kB ? eta -:--:--\n",
      "   ---------------------------------------- 66.5/66.5 kB ? eta 0:00:00\n",
      "Downloading xarray_einstats-0.9.1-py3-none-any.whl (39 kB)\n",
      "Installing collected packages: packaging, h5netcdf, xarray, xarray-einstats, arviz\n",
      "  Attempting uninstall: packaging\n",
      "    Found existing installation: packaging 23.2\n",
      "    Uninstalling packaging-23.2:\n",
      "      Successfully uninstalled packaging-23.2\n",
      "  Attempting uninstall: xarray\n",
      "    Found existing installation: xarray 2023.6.0\n",
      "    Uninstalling xarray-2023.6.0:\n",
      "      Successfully uninstalled xarray-2023.6.0\n",
      "Successfully installed arviz-0.22.0 h5netcdf-1.6.4 packaging-25.0 xarray-2025.8.0 xarray-einstats-0.9.1\n"
     ]
    },
    {
     "name": "stderr",
     "output_type": "stream",
     "text": [
      "ERROR: pip's dependency resolver does not currently take into account all the packages that are installed. This behaviour is the source of the following dependency conflicts.\n",
      "streamlit 1.32.0 requires packaging<24,>=16.8, but you have packaging 25.0 which is incompatible.\n"
     ]
    }
   ],
   "source": [
    "!pip install arviz\n"
   ]
  },
  {
   "cell_type": "code",
   "execution_count": null,
   "id": "e3b318ba-d3ca-45d1-a872-de2dbe893f12",
   "metadata": {},
   "outputs": [],
   "source": []
  },
  {
   "cell_type": "code",
   "execution_count": null,
   "id": "d9d28aee-d947-4aba-a9f8-afb3ae020981",
   "metadata": {},
   "outputs": [],
   "source": []
  }
 ],
 "metadata": {
  "kernelspec": {
   "display_name": "Python [conda env:base] *",
   "language": "python",
   "name": "conda-base-py"
  },
  "language_info": {
   "codemirror_mode": {
    "name": "ipython",
    "version": 3
   },
   "file_extension": ".py",
   "mimetype": "text/x-python",
   "name": "python",
   "nbconvert_exporter": "python",
   "pygments_lexer": "ipython3",
   "version": "3.12.4"
  }
 },
 "nbformat": 4,
 "nbformat_minor": 5
}
